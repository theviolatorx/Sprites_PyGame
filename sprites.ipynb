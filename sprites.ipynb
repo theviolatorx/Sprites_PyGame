{
 "cells": [
  {
   "cell_type": "code",
   "execution_count": 5,
   "metadata": {},
   "outputs": [],
   "source": [
    "import pygame\n",
    "from pygame.locals import *\n",
    "from sys import exit"
   ]
  },
  {
   "cell_type": "code",
   "execution_count": 6,
   "metadata": {},
   "outputs": [],
   "source": [
    "class Sapo(pygame.sprite.Sprite):\n",
    "    def __init__(self):\n",
    "        pygame.sprite.Sprite.__init__(self)\n",
    "        self.sprites = []\n",
    "        self.sprites.append(pygame.image.load('sprites/attack_1.png'))\n",
    "        self.sprites.append(pygame.image.load('sprites/attack_2.png'))\n",
    "        self.sprites.append(pygame.image.load('sprites/attack_3.png'))\n",
    "        self.sprites.append(pygame.image.load('sprites/attack_4.png'))\n",
    "        self.sprites.append(pygame.image.load('sprites/attack_5.png'))\n",
    "        self.sprites.append(pygame.image.load('sprites/attack_6.png'))\n",
    "        self.sprites.append(pygame.image.load('sprites/attack_1.png'))\n",
    "        self.sprites.append(pygame.image.load('sprites/attack_7.png'))\n",
    "        self.sprites.append(pygame.image.load('sprites/attack_8.png'))\n",
    "        self.sprites.append(pygame.image.load('sprites/attack_9.png'))\n",
    "        self.sprites.append(pygame.image.load('sprites/attack_10.png'))\n",
    "        self.atual = 0\n",
    "        self.image = self.sprites[self.atual]\n",
    "        self.image = pygame.transform.scale(self.image, (128*3, 64*3))\n",
    "\n",
    "        self.rect = self.image.get_rect()\n",
    "        self.rect.topleft = 100, 100\n",
    "\n",
    "        self.animar = False\n",
    "\n",
    "    def update(self):\n",
    "        if self.animar:\n",
    "            self.atual = self.atual + 0.5\n",
    "            if self.atual >= len(self.sprites):\n",
    "                self.atual = 0\n",
    "                self.animar = False\n",
    "            self.image = self.sprites[int(self.atual)]\n",
    "            self.image = pygame.transform.scale(self.image, (128*3, 64*3))\n",
    "\n",
    "        \n",
    "    def atacar(self):\n",
    "        self.animar = True\n",
    "            \n",
    "\n"
   ]
  },
  {
   "cell_type": "code",
   "execution_count": 7,
   "metadata": {},
   "outputs": [],
   "source": [
    "lar, alt = 640, 480\n",
    "PRETO = (0, 0, 0)\n",
    "BRANCO = (255, 255, 255)"
   ]
  },
  {
   "cell_type": "code",
   "execution_count": 8,
   "metadata": {},
   "outputs": [],
   "source": [
    "todas_as_sprites = pygame.sprite.Group()\n",
    "sapo = Sapo()\n",
    "todas_as_sprites.add(sapo)\n",
    "\n"
   ]
  },
  {
   "cell_type": "code",
   "execution_count": 9,
   "metadata": {},
   "outputs": [
    {
     "ename": "SystemExit",
     "evalue": "",
     "output_type": "error",
     "traceback": [
      "An exception has occurred, use %tb to see the full traceback.\n",
      "\u001b[1;31mSystemExit\u001b[0m\n"
     ]
    },
    {
     "name": "stderr",
     "output_type": "stream",
     "text": [
      "c:\\Python311\\Lib\\site-packages\\IPython\\core\\interactiveshell.py:3513: UserWarning: To exit: use 'exit', 'quit', or Ctrl-D.\n",
      "  warn(\"To exit: use 'exit', 'quit', or Ctrl-D.\", stacklevel=1)\n"
     ]
    }
   ],
   "source": [
    "pygame.init()\n",
    "tela = pygame.display.set_mode((lar, alt))\n",
    "pygame.display.set_caption('Sprites')\n",
    "image_fundo = pygame.image.load('./imagens/lagoa01.png').convert()\n",
    "image_fundo = pygame.transform.scale(image_fundo, (lar, alt))\n",
    "\n",
    "relogio = pygame.time.Clock()\n",
    "while True:\n",
    "    relogio.tick(30)\n",
    "    tela.fill(PRETO)\n",
    "    for event in pygame.event.get():\n",
    "        if event.type == QUIT:\n",
    "            pygame.quit()\n",
    "            exit()\n",
    "\n",
    "        if event.type == KEYDOWN:\n",
    "            sapo.atacar()\n",
    "    tela.blit(image_fundo, (0,0))\n",
    "    todas_as_sprites.draw(tela)\n",
    "    todas_as_sprites.update()\n",
    "    pygame.display.flip()"
   ]
  }
 ],
 "metadata": {
  "kernelspec": {
   "display_name": "Python 3",
   "language": "python",
   "name": "python3"
  },
  "language_info": {
   "codemirror_mode": {
    "name": "ipython",
    "version": 3
   },
   "file_extension": ".py",
   "mimetype": "text/x-python",
   "name": "python",
   "nbconvert_exporter": "python",
   "pygments_lexer": "ipython3",
   "version": "3.11.3"
  },
  "orig_nbformat": 4
 },
 "nbformat": 4,
 "nbformat_minor": 2
}
